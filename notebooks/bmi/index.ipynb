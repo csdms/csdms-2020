{
 "cells": [
  {
   "cell_type": "markdown",
   "metadata": {},
   "source": [
    "# Exploring Surface Processes using CSDMS Tools: How to Build Coupled Models\n",
    "\n",
    "## Day 2: The Basic Model Interface (BMI)\n",
    "\n",
    "Today we'll explore through a pair of Jupyter Notebooks what the Basic Model Interface is, and how to use it.\n",
    "\n",
    "*  [Run the *Heat* model](bmi-run-model.ipynb)\n",
    "   * View model source code\n",
    "   * Set up the model\n",
    "   * Run the model\n",
    "   * View output\n",
    "\n",
    "*  [Run the *Heat* model through its BMI](bmi-run-model-from-bmi.ipynb)\n",
    "   * View model BMI source code\n",
    "   * Set up the model through its BMI\n",
    "   * Run the model\n",
    "   * View output\n",
    "\n",
    "Additional information:\n",
    "  * [BMI documentation](https://bmi.readthedocs.io)   \n",
    "  * [Python BMI spec](https://github.com/csdms/bmi-python)\n",
    "  * [Python BMI example](https://github.com/csdms/bmi-example-python)\n"
   ]
  }
 ],
 "metadata": {
  "kernelspec": {
   "display_name": "Python 3",
   "language": "python",
   "name": "python3"
  },
  "language_info": {
   "codemirror_mode": {
    "name": "ipython",
    "version": 3
   },
   "file_extension": ".py",
   "mimetype": "text/x-python",
   "name": "python",
   "nbconvert_exporter": "python",
   "pygments_lexer": "ipython3",
   "version": "3.7.4"
  }
 },
 "nbformat": 4,
 "nbformat_minor": 2
}
