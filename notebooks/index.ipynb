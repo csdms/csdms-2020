{
 "cells": [
  {
   "cell_type": "markdown",
   "metadata": {},
   "source": [
    "# River, Coastal and Estuarine Morphodynamics Symposium\n",
    "\n",
    "## Day 2: The Python Modeling Toolkit (*pymt*)\n",
    "\n",
    "Today we will explore through a series of *Jupyter* notebooks how to use the Python Modeling Toolkit run and couple models.\n",
    "\n",
    "*  [Introduction to *pymt*](intro.ipynb)\n",
    "   * Why use *pymt*?\n",
    "   * The *pymt* library of models\n",
    "   * Setting up a model simulation\n",
    "   * Initialize, Run, Finalize\n",
    "   * Getting data out of a model\n",
    "\n",
    "*  [Run a standalone model in *pymt*](hydrotrend.ipynb)\n",
    "   * Introduction to Hydrotrend]\n",
    "   * Setup + Run + analyze]\n",
    "   * Adjust for a changing climate]\n",
    "   * Adjust for human impact]\n",
    "\n",
    "*  [Couple two models](cem_and_waves.ipynb)\n",
    "   * Introduction to CEM + Waves\n",
    "   * Setup a simulation\n",
    "   * Getter and setters\n",
    "   * Run\n",
    "   * Grids\n",
    "   * Plot + analyze output\n",
    "\n",
    "Additional notebooks:\n",
    "  * [Flexural Subsidence Model](subside.ipynb)   \n",
    "  * [ECSimpleSnow component](ecsimplesnow.ipynb)\n",
    "  * [Frost Number Model](frost_number.ipynb)\n",
    "  * [Kudryavtsev Model](ku.ipynb)\n"
   ]
  },
  {
   "cell_type": "code",
   "execution_count": null,
   "metadata": {},
   "outputs": [],
   "source": []
  }
 ],
 "metadata": {
  "kernelspec": {
   "display_name": "Python 3",
   "language": "python",
   "name": "python3"
  },
  "language_info": {
   "codemirror_mode": {
    "name": "ipython",
    "version": 3
   },
   "file_extension": ".py",
   "mimetype": "text/x-python",
   "name": "python",
   "nbconvert_exporter": "python",
   "pygments_lexer": "ipython3",
   "version": "3.7.3"
  }
 },
 "nbformat": 4,
 "nbformat_minor": 2
}
