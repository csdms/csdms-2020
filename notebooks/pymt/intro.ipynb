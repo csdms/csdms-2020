{
 "cells": [
  {
   "cell_type": "markdown",
   "metadata": {},
   "source": [
    "## Why *pymt*?\n",
    "\n",
    "*pymt* provides a standard, easy-to-use interface to a wide range of models. *pymt* solves\n",
    "several problems often encountered when a user wants to find, run, and/or couple\n",
    "models to one another. Below I'll go through some of the problems a model user often\n",
    "encounters when trying to find and try out a new model. This is certainly not an exhaustive\n",
    "list.\n",
    "\n",
    "Can you think of other issues a user may encounter in trying to use and/or couple\n",
    "a model?\n",
    "\n",
    "Problems:\n",
    "* [Source code](#Getting-source-code)\n",
    "* [Compiling the source code](#Compiling)\n",
    "* [Documentation](#Documentation) (or lack thereof)\n",
    "* [Running a model](#Running-a-model)\n",
    "* [Debugging](#Debugging)\n",
    "* [Model coupling](#Model-coupling)"
   ]
  },
  {
   "cell_type": "markdown",
   "metadata": {},
   "source": [
    "### Getting source code\n",
    "\n",
    "Even if a user doesn't *need* source code to run a model (i.e. they been given\n",
    "a binary program they can simply run), it's still important for them to be\n",
    "able to have access to it: they may want to modify it, or have a closer look\n",
    "under-the-hood to see what's going on.\n",
    "\n",
    "#### Problem\n",
    "\n",
    "This is certainly less of a problem nowadays. However, it can still be an issue.\n",
    "A would-be model user has heard of some mysterious model and would like to try\n",
    "it out but can't find the source code. Instead, they are left trying to\n",
    "find the email (phone? fax?) for the *master-of-the-code* and then trying to convince that person\n",
    "to send a floppy disk of the source code to you. It's hard to believe, but this used to\n",
    "be a thing.\n",
    "\n",
    "#### Solution\n",
    "\n",
    "All of the models within *pymt* are open source. For the most part, the source code for\n",
    "*pymt* model are available in repositories on\n",
    "[GitHub](https://github.com) but some may be housed on other publicly\n",
    "accessable websites like [bitbucket](https://bitbucket.com), and\n",
    "[SourceForge](https://sourceforge.com). We don't enforce the use of *GitHub* but\n",
    "we do use it extensively for our code and it seems to be the most widely used\n",
    "version control system in our community. In any case, the source code for all of the\n",
    "models are freely available and not located behind a gate keeper. \n",
    "\n",
    "CSDMS maintains a database of model metadata on its website:\n",
    "* https://csdms.colorado.edu\n",
    "This is not the source code but descriptions of models that have been contributed\n",
    "by the community to CSDMS. Here you can query model by, for example, type, process,\n",
    "or name.\n",
    "\n",
    "The source code for many of the contributed models is on *GitHub* under the\n",
    "*csdms-contrib* organization.\n",
    "* https://github.com/csdms-contrib"
   ]
  },
  {
   "cell_type": "markdown",
   "metadata": {},
   "source": [
    "### Compiling\n",
    "\n",
    "You have the FORTRAN source code, it looks great (maybe you've even modified it), but now you need to\n",
    "be to run it.\n",
    "\n",
    "#### Problem\n",
    "\n",
    "Depending on the model, this step may not be much of a problem. However, oftentimes this\n",
    "is the *biggest* problem a user encounters when trying to run a new model. At it worst,\n",
    "this step is extremely painful and is often enough of a hurdle that this is where the\n",
    "user stops.\n",
    "\n",
    "After getting the source code, there are still several issues to solve:\n",
    "* Do I have the necessary compilers installed on my target platform?\n",
    "* Was the code ever intended to be built on my target platform?\n",
    "* Do I have all of the necessary dependencies installed? If not, this step is\n",
    "  increased in complexity by the number of dependencies needed to install.\n",
    "\n",
    "\n",
    "#### Solution\n",
    "\n",
    "All of the models distributed in *pymt* come pre-compiled on a range of platforms. Although we\n",
    "distribute *pymt* through *Anaconda*, which is primarily a Python package manager, models\n",
    "written in C, C++, or FORTRAN are also available. Although we try to build all of the models\n",
    "for Linux, Mac, and Windows, all of the models aren't yet available on all of those platforms.\n",
    "We're trying though! Most all of them are available on Linux, and Mac.\n",
    "\n",
    "We use [conda-forge](https://github.com/conda-forge) to build and distribute models that\n",
    "can then be installed using *Anaconda*. One nice side effect of this is that we also provide\n",
    "a recipe describes how each piece of software is built so that you can do it yourself, if\n",
    "you need to.\n",
    "\n",
    "And, as always, we accept pull requests! If you've built a model on a platform that we\n",
    "haven't, we would love to hear from you."
   ]
  },
  {
   "cell_type": "markdown",
   "metadata": {},
   "source": [
    "### Documentation\n",
    "\n",
    "Perhaps the number one thing that keeps a user from experimenting with a new model. Is a\n",
    "lack of documentation. A user has found some source code but there is no documentation.\n",
    "Unfortunately, we are seldom paid to write documentation. Instead, we are funded to write\n",
    "some code to solve a specific problem and that's it. Encountered with a new mode, if a\n",
    "user isn't told how to build, run, or modify a model, they'll most likely just move on.\n",
    "\n",
    "#### Problem\n",
    "\n",
    "A collection of source files without any documentation.\n",
    "\n",
    "#### Solution\n",
    "\n",
    "Both [*landlab*](https://landlab.readthedocs.io) and [*pymt*](https://pymt.readthedocs.io)\n",
    "are well documented. And, as such, a user using a model from either of these\n",
    "frameworks is able to tap into a either of these documentation bases for information\n",
    "about how to get and run a model."
   ]
  },
  {
   "cell_type": "markdown",
   "metadata": {},
   "source": [
    "### Running a model\n",
    "\n",
    "Getting, compiling, and installing a model isn't all that useful it the model can't be run.\n",
    "\n",
    "#### Problem\n",
    "\n",
    "Every model has it's own idosyncratic way of running. For example, model generally have\n",
    "model-specific input/output files, or command line arguments (or a GUI?). Or, even worse,\n",
    "there isn't an input file: instead, input parameters are changed in the source code and\n",
    "the code recompiled.\n",
    "\n",
    "\n",
    "#### Solution\n",
    "\n",
    "All of the models in *pymt* have a uniform interface (based on the [Basic Model Interface (BMI)](https://bmi.readthedocs.io)). This means that if you know how to use one *pymt* model, you know how\n",
    "to use all *pymt* models."
   ]
  },
  {
   "cell_type": "markdown",
   "metadata": {},
   "source": [
    "### Debugging\n",
    "\n",
    "It looks like there may be a problem with a model but you're not sure. Or, you are sure,\n",
    "but you don't know where exactly the problem lies.\n",
    "\n",
    "#### Problem\n",
    "\n",
    "Trying to track down bugs can be a difficult process: particularly in codes written in compiled\n",
    "languages like C or FORTRAN. Debugging oftentimes means inserting a bunch of print statements\n",
    "into the code, recompiling, examining the output, and repeating.\n",
    "\n",
    "#### Solution\n",
    "\n",
    "Because *pymt* models are written in Python, a user can interactively run a model. A model can\n",
    "be updated one time step at a time, it's state examined (perhaps using Python tools like numpy\n",
    "or plotted using *matplotlib*), or even changed, and then updated for another time step. This\n",
    "ability to debug a model by playing with it in Python has proven to be a valuable way to,\n",
    "not only get a feel for how a model works, but also to see if it's working properly or as\n",
    "expected."
   ]
  },
  {
   "cell_type": "markdown",
   "metadata": {},
   "source": [
    "### Model coupling\n",
    "\n",
    "A user would like to couple two models (or a model to a dataset). \n",
    "\n",
    "#### Problem\n",
    "\n",
    "There are potentially many.\n",
    "\n",
    "Some examples:\n",
    "* Models are written in different languages\n",
    "* Models don't provide a way for another model to access it\n",
    "\n",
    "Can you think of others? Perhaps some that you've encountered? \n",
    "\n",
    "#### Solution\n",
    "\n",
    "The *pymt* brings models from different languages (currently C, C++, FORTRAN, and Python)\n",
    "into a Python environment. Because of the BMI (*pymt* models all expose a BMI), we can\n",
    "mostly automate this process. Through *pymt* users are able to write Python scripts that\n",
    "run single models, or multiple models together.\n",
    "\n",
    "We'll show you how to do this today."
   ]
  },
  {
   "cell_type": "markdown",
   "metadata": {},
   "source": [
    "## The *pymt* model library\n",
    "\n",
    "All of the models that are available through *pymt* are held in a Python dictionary\n",
    "that you can import. The keys of the dictionary are the model names, and the\n",
    "values the model itself - as a Python class.\n",
    "\n",
    "To have a look at what models are currently available, we'll import the library\n",
    "and print the names of all of the models.\n",
    "\n",
    "For more information you can look at the [pymt documentation](https://pymt.readthedocs.io)"
   ]
  },
  {
   "cell_type": "code",
   "execution_count": 1,
   "metadata": {},
   "outputs": [
    {
     "name": "stdout",
     "output_type": "stream",
     "text": [
      "Avulsion\n",
      "Cem\n",
      "ECSimpleSnow\n",
      "ExponentialWeatherer\n",
      "Flexure\n",
      "FlowAccumulator\n",
      "FlowDirectorD8\n",
      "FlowDirectorDINF\n",
      "FlowDirectorSteepest\n",
      "FrostNumber\n",
      "GIPL\n",
      "Hydrotrend\n",
      "Ku\n",
      "LinearDiffuser\n",
      "OverlandFlow\n",
      "Plume\n",
      "Sedflux3D\n",
      "SoilMoisture\n",
      "StreamPowerEroder\n",
      "Subside\n",
      "TransportLengthHillslopeDiffuser\n",
      "Vegetation\n",
      "Waves\n"
     ]
    }
   ],
   "source": [
    "from pymt import library\n",
    "\n",
    "for name in library:\n",
    "    print(name)"
   ]
  },
  {
   "cell_type": "markdown",
   "metadata": {},
   "source": [
    "We'll now have a closer look at a model and see how a *pymt* model works. Rememeber, because\n",
    "*pymt* models all have the same interface, and so if you know how to use one, you'll know\n",
    "how to use all of them.\n",
    "\n",
    "Let's begin by picking a model from the above list. Pick one that sounds interesting to you."
   ]
  },
  {
   "cell_type": "code",
   "execution_count": 2,
   "metadata": {},
   "outputs": [],
   "source": [
    "Model = library[\"Plume\"] # <- type the name of the model you would like to use"
   ]
  },
  {
   "cell_type": "markdown",
   "metadata": {},
   "source": [
    "`Model` is now a class of the model that you've chosen. You could create multiple instances\n",
    "of a `Model` but until it's an instance, you can't do too much with it, so let's\n",
    "create an instance."
   ]
  },
  {
   "cell_type": "code",
   "execution_count": 3,
   "metadata": {},
   "outputs": [],
   "source": [
    "model = Model()"
   ]
  },
  {
   "cell_type": "markdown",
   "metadata": {},
   "source": [
    "We can now examine the model a little more. For instance, we can use the `help` function\n",
    "to get some information about the model. This will give us a brief summary of the model,\n",
    "the author, a version number, license, references, etc."
   ]
  },
  {
   "cell_type": "code",
   "execution_count": 4,
   "metadata": {},
   "outputs": [
    {
     "name": "stdout",
     "output_type": "stream",
     "text": [
      "Help on Plume in module pymt.framework.bmi_bridge object:\n",
      "\n",
      "class Plume(BmiCap)\n",
      " |  Basic Model Interface for sedflux.\n",
      " |  \n",
      " |  Plume simulates the sediment transport and deposition of single-grain\n",
      " |  size sediment from a river mouth entering into a marine basin by\n",
      " |  creating a turbulent jet. The model calculates a steady-state\n",
      " |  hypopycnal plume as a result of river water and sediment discharge\n",
      " |  based on simplified advection-diffusion equations. The model allows\n",
      " |  for plume deflection due to systematic coastal currents or Coriolis\n",
      " |  force\n",
      " |  \n",
      " |  Author:\n",
      " |  - Eric Hutton\n",
      " |  Version: 0.1\n",
      " |  License: MIT\n",
      " |  DOI: None\n",
      " |  URL: https://github.com/mcflugen/sedflux\n",
      " |  \n",
      " |  \n",
      " |  \n",
      " |  Parameters\n",
      " |  ----------\n",
      " |  along_shore_resolution : float, optional\n",
      " |      Resolution of the deposit in the along-shore direction [default=100.0\n",
      " |      m]\n",
      " |  background_ocean_concentration : float, optional\n",
      " |      Background sediment volume concentration of the ocean [default=0.0 -]\n",
      " |  basin_length : float, optional\n",
      " |      Length of the ocean/fjord [default=30000.0 m]\n",
      " |  basin_width : float, optional\n",
      " |      Width of the ocean/fjord [default=2000.0 m]\n",
      " |  bulk_density : float, optional\n",
      " |      Saturated bulk density of bottom sediments [default=1800.0 kg/m^3]\n",
      " |  coast_normal : float, optional\n",
      " |      Angle of the coast normal as measured clockwise from north\n",
      " |      [default=90.0 degrees]\n",
      " |  coastal_current_velocity : float, optional\n",
      " |      Along-shore velocity of the coastal current [default=0.0 m/s]\n",
      " |  cross_shore_resolution : float, optional\n",
      " |      Resolution of the deposit in the cross-shore direction [default=100.0\n",
      " |      m]\n",
      " |  grid_nodes_in_river_mouth : int, optional\n",
      " |      Number of computational grid nodes contained within the river mouth\n",
      " |      [default=3 -]\n",
      " |  normalized_current_width : float, optional\n",
      " |      Normalized width of the along-shore current [default=1.0 -]\n",
      " |  ratio_of_cross_shore_to_along_shore_spacing : int, optional\n",
      " |      Ratio of spacing in the along-shore to cross-shore spacing [default=2\n",
      " |      -]\n",
      " |  removal_rate : float, optional\n",
      " |      Removal rate of susmpended sediment [default=16.8 day^-1]\n",
      " |  river_mouth_angle : float, optional\n",
      " |      Angle of the river mouth measured with respect to the coast normal\n",
      " |      [default=0.0 degrees]\n",
      " |  river_mouth_depth : float, optional\n",
      " |      Depth of river at river mouth [default=10.0 m]\n",
      " |  river_mouth_latitude : float, optional\n",
      " |      Latitude of the river mouth [default=45.0 degrees]\n",
      " |  river_mouth_velocity : float, optional\n",
      " |      Flow velocity at river mouth [default=1.0 m/s]\n",
      " |  river_mouth_width : float, optional\n",
      " |      Width of river at river mouth [default=100.0 m]\n",
      " |  sediment_mass_concentration : float, optional\n",
      " |      Average mass-concentration of suspended sediment [default=4.0 kg/m^3]\n",
      " |  \n",
      " |  Examples\n",
      " |  --------\n",
      " |  >>> from pymt.models import sedflux\n",
      " |  >>> model = sedflux()\n",
      " |  >>> (fname, initdir) = model.setup()\n",
      " |  >>> model.initialize(fname, dir=initdir)\n",
      " |  >>> for _ in xrange(10):\n",
      " |  ...     model.update()\n",
      " |  >>> model.finalize()\n",
      " |  \n",
      " |  Method resolution order:\n",
      " |      Plume\n",
      " |      BmiCap\n",
      " |      pymt.framework.bmi_mapper.GridMapperMixIn\n",
      " |      _BmiCap\n",
      " |      DeprecatedMethods\n",
      " |      pymt.framework.bmi_timeinterp.BmiTimeInterpolator\n",
      " |      pymt.framework.bmi_setup.SetupMixIn\n",
      " |      builtins.object\n",
      " |  \n",
      " |  Methods defined here:\n",
      " |  \n",
      " |  __repr__(self)\n",
      " |  \n",
      " |  __str__(self)\n",
      " |  \n",
      " |  ----------------------------------------------------------------------\n",
      " |  Methods inherited from pymt.framework.bmi_mapper.GridMapperMixIn:\n",
      " |  \n",
      " |  map_to(self, name, **kwds)\n",
      " |      Map values to another grid.\n",
      " |      \n",
      " |      Parameters\n",
      " |      ----------\n",
      " |      name : str\n",
      " |          Name of values to push.\n",
      " |  \n",
      " |  map_value(self, name, **kwds)\n",
      " |      Map values from another grid.\n",
      " |      \n",
      " |      Parameters\n",
      " |      ----------\n",
      " |      name : str\n",
      " |          Name of values to map to.\n",
      " |      mapfrom : tuple or bmi_like, optional\n",
      " |          BMI object from which values are mapped from. This can also be\n",
      " |          a tuple of *(name, bmi)*, where *name* is the variable of the\n",
      " |          source grid and *bmi* is the bmi-like source. If not provided,\n",
      " |          use *self*.\n",
      " |      nomap : narray of bool, optional\n",
      " |          Values in the destination grid to not map.\n",
      " |  \n",
      " |  regrid(self, name, **kwds)\n",
      " |      Regrid values from one grid to another.\n",
      " |      \n",
      " |      Parameters\n",
      " |      ----------\n",
      " |      name : str\n",
      " |          Name of the values to regrid.\n",
      " |      to : bmi_like, optional\n",
      " |          BMI object onto which to map values. If not provided, map\n",
      " |          values onto one of the object's own grids.\n",
      " |      to_name : str, optional\n",
      " |          Name of the value to map onto. If not provided, use *name*.\n",
      " |      \n",
      " |      Returns\n",
      " |      -------\n",
      " |      ndarray\n",
      " |          The regridded values.\n",
      " |  \n",
      " |  set_value(self, name, *args, **kwds)\n",
      " |      Set values for a variable.\n",
      " |      set_value(name, value)\n",
      " |      set_value(name, mapfrom=self, nomap=None)\n",
      " |      \n",
      " |      Parameters\n",
      " |      ----------\n",
      " |      name : str\n",
      " |          Name of the destination values.\n",
      " |  \n",
      " |  ----------------------------------------------------------------------\n",
      " |  Data descriptors inherited from pymt.framework.bmi_mapper.GridMapperMixIn:\n",
      " |  \n",
      " |  __dict__\n",
      " |      dictionary for instance variables (if defined)\n",
      " |  \n",
      " |  __weakref__\n",
      " |      list of weak references to the object (if defined)\n",
      " |  \n",
      " |  ----------------------------------------------------------------------\n",
      " |  Methods inherited from _BmiCap:\n",
      " |  \n",
      " |  __init__(self)\n",
      " |      Initialize self.  See help(type(self)) for accurate signature.\n",
      " |  \n",
      " |  as_dict(self)\n",
      " |  \n",
      " |  as_json(self)\n",
      " |  \n",
      " |  as_yaml(self)\n",
      " |  \n",
      " |  finalize(self)\n",
      " |  \n",
      " |  get_component_name(self)\n",
      " |  \n",
      " |  get_input_var_names(self)\n",
      " |  \n",
      " |  get_output_var_names(self)\n",
      " |  \n",
      " |  get_value(self, name, out=None, units=None, angle=None, at=None, method=None)\n",
      " |  \n",
      " |  get_value_ptr(self, name)\n",
      " |  \n",
      " |  grid_dim(self, grid, dim)\n",
      " |  \n",
      " |  grid_edge_count(self, grid)\n",
      " |  \n",
      " |  grid_face_count(self, grid)\n",
      " |  \n",
      " |  grid_face_node_connectivity(self, grid, out=None)\n",
      " |  \n",
      " |  grid_face_node_offset(self, grid, out=None)\n",
      " |  \n",
      " |  grid_face_nodes(self, grid, out=None)\n",
      " |  \n",
      " |  grid_ndim(self, grid)\n",
      " |  \n",
      " |  grid_node_count(self, grid)\n",
      " |  \n",
      " |  grid_nodes_per_face(self, grid, out=None)\n",
      " |  \n",
      " |  grid_origin(self, grid, out=None)\n",
      " |  \n",
      " |  grid_shape(self, grid, out=None)\n",
      " |  \n",
      " |  grid_spacing(self, grid, out=None)\n",
      " |  \n",
      " |  grid_type(self, grid)\n",
      " |  \n",
      " |  grid_vertex_count(self, grid)\n",
      " |  \n",
      " |  grid_x(self, grid, out=None)\n",
      " |  \n",
      " |  grid_y(self, grid, out=None)\n",
      " |  \n",
      " |  grid_z(self, grid, out=None)\n",
      " |  \n",
      " |  initialize(self, fname=None, dir='.')\n",
      " |      Initialize the model.\n",
      " |      \n",
      " |      Parameters\n",
      " |      ----------\n",
      " |      fname : str\n",
      " |          Name of initialization file.\n",
      " |      dir : str\n",
      " |          Path to folder in which to run initialization.\n",
      " |  \n",
      " |  quick_plot(self, name, **kwds)\n",
      " |  \n",
      " |  time_from(self, time, units)\n",
      " |  \n",
      " |  time_in(self, time, units)\n",
      " |  \n",
      " |  update(self)\n",
      " |  \n",
      " |  var_grid(self, name)\n",
      " |  \n",
      " |  var_grid_loc(self, name)\n",
      " |  \n",
      " |  var_intent(self, name)\n",
      " |  \n",
      " |  var_itemsize(self, name)\n",
      " |  \n",
      " |  var_location(self, name)\n",
      " |  \n",
      " |  var_nbytes(self, name)\n",
      " |  \n",
      " |  var_type(self, name)\n",
      " |  \n",
      " |  var_units(self, name)\n",
      " |  \n",
      " |  ----------------------------------------------------------------------\n",
      " |  Data descriptors inherited from _BmiCap:\n",
      " |  \n",
      " |  bmi\n",
      " |  \n",
      " |  end_time\n",
      " |  \n",
      " |  grid\n",
      " |  \n",
      " |  initdir\n",
      " |  \n",
      " |  input_var_names\n",
      " |  \n",
      " |  name\n",
      " |  \n",
      " |  output_var_names\n",
      " |  \n",
      " |  start_time\n",
      " |  \n",
      " |  time\n",
      " |  \n",
      " |  time_step\n",
      " |  \n",
      " |  time_units\n",
      " |  \n",
      " |  var\n",
      " |  \n",
      " |  ----------------------------------------------------------------------\n",
      " |  Data and other attributes inherited from _BmiCap:\n",
      " |  \n",
      " |  NUMBER_OF_ELEMENTS = {'edge': 'grid_edge_count', 'face': 'grid_face_co...\n",
      " |  \n",
      " |  ----------------------------------------------------------------------\n",
      " |  Methods inherited from DeprecatedMethods:\n",
      " |  \n",
      " |  get_grid_dim(self, grid, dim)\n",
      " |  \n",
      " |  get_grid_face_node_connectivity(self, grid, out=None)\n",
      " |  \n",
      " |  get_grid_face_node_offset(self, grid, out=None)\n",
      " |  \n",
      " |  get_grid_face_nodes(self, grid, out=None)\n",
      " |  \n",
      " |  get_grid_ndim(self, grid)\n",
      " |  \n",
      " |  get_grid_nodes_per_face(self, grid, out=None)\n",
      " |  \n",
      " |  get_grid_number_of_edges(self, grid)\n",
      " |  \n",
      " |  get_grid_number_of_faces(self, grid)\n",
      " |  \n",
      " |  get_grid_number_of_nodes(self, grid)\n",
      " |  \n",
      " |  get_grid_number_of_vertices(self, grid)\n",
      " |  \n",
      " |  get_grid_origin(self, grid, out=None)\n",
      " |  \n",
      " |  get_grid_rank(self, grid)\n",
      " |  \n",
      " |  get_grid_shape(self, grid, out=None)\n",
      " |  \n",
      " |  get_grid_size(self, grid)\n",
      " |  \n",
      " |  get_grid_spacing(self, grid, out=None)\n",
      " |  \n",
      " |  get_grid_type(self, grid)\n",
      " |  \n",
      " |  get_grid_x(self, grid, out=None)\n",
      " |  \n",
      " |  get_grid_y(self, grid, out=None)\n",
      " |  \n",
      " |  get_grid_z(self, grid, out=None)\n",
      " |  \n",
      " |  get_var_grid(self, name)\n",
      " |  \n",
      " |  get_var_grid_loc(self, name)\n",
      " |  \n",
      " |  get_var_intent(self, name)\n",
      " |  \n",
      " |  get_var_itemsize(self, name)\n",
      " |  \n",
      " |  get_var_location(self, name)\n",
      " |  \n",
      " |  get_var_nbytes(self, name)\n",
      " |  \n",
      " |  get_var_type(self, name)\n",
      " |  \n",
      " |  get_var_units(self, name)\n",
      " |  \n",
      " |  ----------------------------------------------------------------------\n",
      " |  Methods inherited from pymt.framework.bmi_timeinterp.BmiTimeInterpolator:\n",
      " |  \n",
      " |  add_data(self)\n",
      " |  \n",
      " |  interpolate(self, name, at)\n",
      " |  \n",
      " |  reset(self, method='linear')\n",
      " |  \n",
      " |  update_until(self, then, method=None, units=None)\n",
      " |  \n",
      " |  ----------------------------------------------------------------------\n",
      " |  Methods inherited from pymt.framework.bmi_setup.SetupMixIn:\n",
      " |  \n",
      " |  setup(self, *args, **kwds)\n",
      " |      Set up a simulation.\n",
      " |      \n",
      " |      Parameters\n",
      " |      ----------\n",
      " |      path : str, optional\n",
      " |          Path to a folder to set up the simulation. If not given,\n",
      " |          use a temporary folder.\n",
      " |      \n",
      " |      Returns\n",
      " |      -------\n",
      " |      str\n",
      " |          Path to the folder that contains the set up simulation.\n",
      " |  \n",
      " |  ----------------------------------------------------------------------\n",
      " |  Data descriptors inherited from pymt.framework.bmi_setup.SetupMixIn:\n",
      " |  \n",
      " |  author\n",
      " |  \n",
      " |  cite_as\n",
      " |  \n",
      " |  contact\n",
      " |  \n",
      " |  datadir\n",
      " |  \n",
      " |  defaults\n",
      " |  \n",
      " |  doi\n",
      " |  \n",
      " |  email\n",
      " |  \n",
      " |  license\n",
      " |  \n",
      " |  parameters\n",
      " |  \n",
      " |  summary\n",
      " |  \n",
      " |  url\n",
      " |  \n",
      " |  version\n",
      "\n"
     ]
    }
   ],
   "source": [
    "help(model)"
   ]
  },
  {
   "cell_type": "markdown",
   "metadata": {},
   "source": [
    "Scroll down a little in the help message and have a look at the *Parameters* section. These\n",
    "are input parameters to the model. That is, things that are set at the *beginning* of\n",
    "the model and cannot be changed thereafter. You can also get a view of the programmatically\n",
    "using the *parameters* attribute."
   ]
  },
  {
   "cell_type": "code",
   "execution_count": 5,
   "metadata": {},
   "outputs": [
    {
     "name": "stdout",
     "output_type": "stream",
     "text": [
      "sediment_mass_concentration [default = 4.0]\n",
      "river_mouth_velocity [default = 1.0]\n",
      "river_mouth_width [default = 100.0]\n",
      "river_mouth_depth [default = 10.0]\n",
      "river_mouth_angle [default = 0.0]\n",
      "river_mouth_latitude [default = 45.0]\n",
      "coast_normal [default = 90.0]\n",
      "basin_width [default = 2000.0]\n",
      "basin_length [default = 30000.0]\n",
      "bulk_density [default = 1800.0]\n",
      "removal_rate [default = 16.8]\n",
      "background_ocean_concentration [default = 0.0]\n",
      "normalized_current_width [default = 1.0]\n",
      "coastal_current_velocity [default = 0.0]\n",
      "grid_nodes_in_river_mouth [default = 3]\n",
      "ratio_of_cross_shore_to_along_shore_spacing [default = 2]\n",
      "along_shore_resolution [default = 100.0]\n",
      "cross_shore_resolution [default = 100.0]\n"
     ]
    }
   ],
   "source": [
    "for parameter in model.parameters:\n",
    "    print(\"{0} [default = {1}]\".format(*parameter))"
   ]
  },
  {
   "cell_type": "markdown",
   "metadata": {},
   "source": [
    "## The lifecycle of a model\n",
    "\n",
    "Running a model in *pymt* involves four steps:\n",
    "* [setup](#setup): prepare input files\n",
    "  * *setup*\n",
    "* [initialize](#initialize): read input files\n",
    "  * *initialize*\n",
    "  * *input_var_names*\n",
    "  * *output_var_names*\n",
    "  * *var*\n",
    "  * *get_value*\n",
    "* [update](#update): advance one time step\n",
    "  * *update*\n",
    "  * *start_time*\n",
    "  * *time*\n",
    "  * *end_time*\n",
    "* [finalize](#finalize): shutdown\n",
    "  * *finalize*\n",
    "\n",
    "Below we'll briefly go through each of these steps."
   ]
  },
  {
   "cell_type": "markdown",
   "metadata": {},
   "source": [
    "### Setup\n",
    "\n",
    "Before a model can be run, it's input files must be prepared. If you haven't done this manually\n",
    "(which you are definitely free to do), you can use the model's *setup* method to help with\n",
    "this.\n",
    "\n",
    "By default, *setup* will create a temporary folder with files containing default values. However,\n",
    "for this example we'll specify a folder so that we can see what's going on. The following will create\n",
    "a new folder, *_my_model* (you can call it whatever you like), and, in that folder, will\n",
    "be model-specific input files. *setup* return a tuple that gives the name of the main configuration\n",
    "file and the full path name of the folder. "
   ]
  },
  {
   "cell_type": "code",
   "execution_count": 6,
   "metadata": {},
   "outputs": [
    {
     "name": "stdout",
     "output_type": "stream",
     "text": [
      "Input files are located here: /Users/huttone/git/csdms/rcem-2019/notebooks/_my_model\n",
      "The main configuration file is: plume.txt\n"
     ]
    }
   ],
   "source": [
    "config_file, config_folder = model.setup(\"_my_model\")\n",
    "print(\"Input files are located here: {0}\".format(config_folder))\n",
    "print(\"The main configuration file is: {0}\".format(config_file))"
   ]
  },
  {
   "cell_type": "markdown",
   "metadata": {},
   "source": [
    "To double-check that something was actually done, you can use shell commands (hint: `ls`, and `cat`)\n",
    "to see what files were created and what their contents are. If you don't like the shell, you can\n",
    "always use the Jupyter tree-view.\n",
    "\n",
    "The set of files that you just created depend completely on the model you chose. All of these files\n",
    "a model-specific. However, note that we all used the exact same command to create them - regardless\n",
    "of our chose model.\n",
    "\n",
    "Now, let's now change an input parameter. This is done through passing keywords to *setup*. The\n",
    "keywords that you can use are specific to a model and can be found through *help*. "
   ]
  },
  {
   "cell_type": "code",
   "execution_count": 7,
   "metadata": {},
   "outputs": [],
   "source": [
    "config_file, config_folder = model.setup(\"_fast_river\", river_mouth_velocity=2.0)"
   ]
  },
  {
   "cell_type": "markdown",
   "metadata": {},
   "source": [
    "You'll now see a new set up input files. If you look closely, you should be able to see your\n",
    "change.\n",
    "\n",
    "A couple of notes about the *setup* method.\n",
    "\n",
    "***Note***: It's not strictly required to run *setup* before *initialize* - it's just a\n",
    "conveient way to get a set of input files. One pattern that is sometimes used is to use\n",
    "*setup* to get a base set of input files and then edit some of the files by hand.\n",
    "\n",
    "***Note***: It's not strictly required that you run *initialize* at all - sometimes\n",
    "*setup* is the goal. For example, *setup* provides an easy way to programmatically\n",
    "create a large number of input files for, say, a Monte Carlo simulation.\n",
    "\n",
    "```python\n",
    ">>> from itertools import product\n",
    ">>> velocity_samples = [0.5, 1.0, 1.5, 2.0, 2.5]\n",
    ">>> width_samples = [100.0, 200.0, 300.0, 400.0, 500.0]\n",
    ">>> for n, (width, velocity) in enumerate(product(velocity_samples, width_samples)):\n",
    "...     model.setup(\"_sim-{0}\".format(n), river_width=width, river_velocity=velocity)\n",
    "```"
   ]
  },
  {
   "cell_type": "markdown",
   "metadata": {},
   "source": [
    "### Initialize\n",
    "\n",
    "Now that we have a set of input files, we're ready to get the model ready for time stepping. This is\n",
    "done through the *initialize* method. The model is not in a state that we can query it, until\n",
    "*initialize* has been run. This is important to understand.\n",
    "\n",
    "To better understand this, consider the common pattern for a model to read from one of its input\n",
    "files the size or resolution of its solution grid. Thus, in such a situation, we cannot ask\n",
    "about the model's grid until its read input files, which is done in *initialize*.\n",
    "\n",
    "To run *initialize*, we must pass the name of a configuration file and a folder - both of\n",
    "which we got from *setup*."
   ]
  },
  {
   "cell_type": "code",
   "execution_count": 8,
   "metadata": {},
   "outputs": [],
   "source": [
    "model.initialize(config_file, config_folder)"
   ]
  },
  {
   "cell_type": "markdown",
   "metadata": {},
   "source": [
    "Now we can ask some questions about the model:\n",
    "* what variables do you provide as output?\n",
    "* what variables to you use as input?\n",
    "* what is the grid like on which these variables sit (if there even is a grid)?"
   ]
  },
  {
   "cell_type": "markdown",
   "metadata": {},
   "source": [
    "#### Input and output variables\n",
    "\n",
    "Input and output variables are different from the parameters we talked about above (the ones described\n",
    "in the *help* message, or the *model.parameters* attribute). Input and output variables are\n",
    "able to ***dynamically change with time***.\n",
    "\n",
    "To get a list of the available input and output variables, you can use the *input_var_names* and\n",
    "*output_var_names* attributes. Depending on the model you chose, you may have not have any\n",
    "input variables. This means your model is configured once at the start but then can't be changed.\n",
    "It could be part of a 1-way coupling but not a 1-way coupling with feedback. A *dataset* would\n",
    "also be an example of a model without input variables."
   ]
  },
  {
   "cell_type": "code",
   "execution_count": 9,
   "metadata": {},
   "outputs": [
    {
     "name": "stdout",
     "output_type": "stream",
     "text": [
      "Input variables:\n",
      "- channel_outflow_end_water__speed\n",
      "- channel_outflow_end_water__depth\n",
      "- channel_outflow_end_suspended_load_sediment__volume_concentration\n",
      "- channel_outflow_end_bed_load_sediment__mass_flow_rate\n",
      "- channel_outflow_end__bankfull_width\n",
      "Output variables:\n",
      "- sea_bottom_sediment__deposition_rate\n"
     ]
    }
   ],
   "source": [
    "print(\"Input variables:\")\n",
    "for name in model.input_var_names:\n",
    "    print(\"- {0}\".format(name))\n",
    "\n",
    "print(\"Output variables:\")\n",
    "for name in model.output_var_names:\n",
    "    print(\"- {0}\".format(name))"
   ]
  },
  {
   "cell_type": "markdown",
   "metadata": {},
   "source": [
    "These are just the names of the variables. We can get additional information as well. This can\n",
    "be obtained several ways but the preferred method is using the `var` attribute. `var` is\n",
    "a dictionary of variables names mapped to variable descriptions.\n",
    "\n",
    "Pick a variable from the above list to find out more about it. We see attributes of the variable\n",
    "such as its data type and units. This also gives us information about the grid that the\n",
    "variable is defined on (i.e. the *grid* and *location* attributes). We'll get to grids later on."
   ]
  },
  {
   "cell_type": "code",
   "execution_count": 10,
   "metadata": {},
   "outputs": [],
   "source": [
    "variable = model.var[\"sea_bottom_sediment__deposition_rate\"] # <- replace this string with a variable for your model"
   ]
  },
  {
   "cell_type": "code",
   "execution_count": 11,
   "metadata": {},
   "outputs": [
    {
     "data": {
      "text/plain": [
       "<DataValues>\n",
       "float64 sea_bottom_sediment__deposition_rate(node)\n",
       "Attributes:\n",
       "    units: m / d\n",
       "    grid: 1\n",
       "    intent: out\n",
       "    location: node"
      ]
     },
     "execution_count": 11,
     "metadata": {},
     "output_type": "execute_result"
    }
   ],
   "source": [
    "variable"
   ]
  },
  {
   "cell_type": "markdown",
   "metadata": {},
   "source": [
    "You can get it values either with the `data` attribute or with the `get_values` method."
   ]
  },
  {
   "cell_type": "code",
   "execution_count": 12,
   "metadata": {},
   "outputs": [
    {
     "data": {
      "text/plain": [
       "array([-1., -1., -1., ...,  0.,  0.,  0.])"
      ]
     },
     "execution_count": 12,
     "metadata": {},
     "output_type": "execute_result"
    }
   ],
   "source": [
    "variable.data"
   ]
  },
  {
   "cell_type": "code",
   "execution_count": 13,
   "metadata": {},
   "outputs": [
    {
     "data": {
      "text/plain": [
       "array([-1., -1., -1., ...,  0.,  0.,  0.])"
      ]
     },
     "execution_count": 13,
     "metadata": {},
     "output_type": "execute_result"
    }
   ],
   "source": [
    "model.get_value(\"sea_bottom_sediment__deposition_rate\")"
   ]
  },
  {
   "cell_type": "markdown",
   "metadata": {},
   "source": [
    "### Run\n",
    "\n",
    "Our model is now initialized and ready to be advanced through time. The *update* method advances\n",
    "the model's state by a single time step."
   ]
  },
  {
   "cell_type": "code",
   "execution_count": 14,
   "metadata": {},
   "outputs": [],
   "source": [
    "model.update()"
   ]
  },
  {
   "cell_type": "markdown",
   "metadata": {},
   "source": [
    "That's it. There not too much to it. You can see that it's done something either by seeing if\n",
    "an output variable has changed or using the *time* attribute to see the current model time -\n",
    "if there is one."
   ]
  },
  {
   "cell_type": "code",
   "execution_count": 15,
   "metadata": {},
   "outputs": [
    {
     "name": "stdout",
     "output_type": "stream",
     "text": [
      "Start time: 0.0 d\n",
      "Current time: 1.0 d\n",
      "End time: 1.0 d\n"
     ]
    }
   ],
   "source": [
    "print(\"Start time: {0} {1}\".format(model.start_time, model.time_units))\n",
    "print(\"Current time: {0} {1}\".format(model.time, model.time_units))\n",
    "print(\"End time: {0} {1}\".format(model.end_time, model.time_units))"
   ]
  },
  {
   "cell_type": "markdown",
   "metadata": {},
   "source": [
    "### Finalize\n",
    "\n",
    "There's not much to this method, and often we don't even use it. This is where a model will free memory\n",
    "or close files. If you're model uses lots of memory and you notice you're running out, it may\n",
    "help to call this method. Calling *finalize* will put your model in a state where it is no\n",
    "longer usable."
   ]
  },
  {
   "cell_type": "code",
   "execution_count": 16,
   "metadata": {},
   "outputs": [],
   "source": [
    "model.finalize()"
   ]
  },
  {
   "cell_type": "code",
   "execution_count": null,
   "metadata": {},
   "outputs": [],
   "source": []
  }
 ],
 "metadata": {
  "kernelspec": {
   "display_name": "Python 3",
   "language": "python",
   "name": "python3"
  },
  "language_info": {
   "codemirror_mode": {
    "name": "ipython",
    "version": 3
   },
   "file_extension": ".py",
   "mimetype": "text/x-python",
   "name": "python",
   "nbconvert_exporter": "python",
   "pygments_lexer": "ipython3",
   "version": "3.7.3"
  }
 },
 "nbformat": 4,
 "nbformat_minor": 2
}
